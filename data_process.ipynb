{
 "cells": [
  {
   "cell_type": "code",
   "execution_count": 1,
   "metadata": {},
   "outputs": [],
   "source": [
    "from pathlib import Path\n",
    "import os\n",
    "from tqdm.notebook import tqdm\n",
    "import json\n",
    "import json5\n",
    "import pandas as pd\n",
    "\n",
    "def load_lang(path:Path) -> dict:\n",
    "    \"\"\"\n",
    "    将旧版lang文件转换为dict\n",
    "    \"\"\"\n",
    "    res = {}\n",
    "    with open(path, 'r') as f:\n",
    "        for line in f:\n",
    "            line = line.strip()\n",
    "            if line and not line.startswith(\"#\"): # 跳过空行和注释\n",
    "                key, value = line.split(\"=\", 1) # 以第一个等号分割键值对\n",
    "                res[key] = value\n",
    "    return res\n"
   ]
  },
  {
   "cell_type": "code",
   "execution_count": null,
   "metadata": {},
   "outputs": [
    {
     "data": {
      "application/vnd.jupyter.widget-view+json": {
       "model_id": "6459541668594b2b8b3de9bd69cd3a9f",
       "version_major": 2,
       "version_minor": 0
      },
      "text/plain": [
       "  0%|          | 0/10 [00:00<?, ?it/s]"
      ]
     },
     "metadata": {},
     "output_type": "display_data"
    },
    {
     "data": {
      "application/vnd.jupyter.widget-view+json": {
       "model_id": "aae3207bb3e245f1a09d574155565b81",
       "version_major": 2,
       "version_minor": 0
      },
      "text/plain": [
       "0it [00:00, ?it/s]"
      ]
     },
     "metadata": {},
     "output_type": "display_data"
    }
   ],
   "source": [
    "path = Path(\"./projects\")\n",
    "errorList = []\n",
    "for version in tqdm(os.listdir(path)):\n",
    "    out_dir = Path(f'patched/{version}')\n",
    "    out_dir.mkdir(parents=True, exist_ok=True)\n",
    "\n",
    "    data = [] # [{key, src, tgt}]\n",
    "\n",
    "    if version == \"1.12.2\":\n",
    "        version = path.joinpath(version)\n",
    "        for en_file in tqdm(version.glob(\"**/en_us.lang\"), leave=True): # 低版本用json文件做语言文件\n",
    "            zh_file = en_file.parent.joinpath('zh_cn.lang')\n",
    "            if not zh_file.exists():\n",
    "                continue\n",
    "            try:\n",
    "                en_lang = load_lang(en_file)\n",
    "                zh_lang = load_lang(zh_file)\n",
    "            except Exception as e:\n",
    "                errorList.append((en_file,zh_file,e))\n",
    "                continue\n",
    "            \n",
    "            for key,src in en_lang.items():\n",
    "                target = zh_lang.get(key, False)\n",
    "                if target:\n",
    "                    data.append({\n",
    "                        \"key\":key,\n",
    "                        \"src\":src,\n",
    "                        \"target\": zh_lang[key]\n",
    "                    })\n",
    "    else:\n",
    "        version = path.joinpath(version)\n",
    "        for en_file in tqdm(version.glob(\"**/en_us.json\"), leave=True): # 高版本用json文件做语言文件\n",
    "            zh_file = en_file.parent.joinpath('zh_cn.json')\n",
    "            if not zh_file.exists():\n",
    "                continue\n",
    "            try:\n",
    "                with open(en_file, 'r') as en:\n",
    "                    en_lang = json5.load(en)\n",
    "                with open(zh_file, 'r') as zh:\n",
    "                    zh_lang = json5.load(zh)\n",
    "            except Exception as e:\n",
    "                errorList.append((en_file,zh_file,e))\n",
    "                continue\n",
    "            \n",
    "            for key,src in en_lang.items():\n",
    "                target = zh_lang.get(key, False)\n",
    "                if target:\n",
    "                    data.append({\n",
    "                        \"key\":key,\n",
    "                        \"src\":src,\n",
    "                        \"target\": zh_lang[key]\n",
    "                    })\n",
    "    df = pd.DataFrame(data)\n",
    "    df.to_csv(out_dir.joinpath(\"data.csv\"), index=False, errors='ignore')\n"
   ]
  },
  {
   "cell_type": "code",
   "execution_count": 3,
   "metadata": {},
   "outputs": [],
   "source": [
    "path = Path(\"patched\")\n",
    "\n",
    "result = pd.DataFrame()\n",
    "for csv in path.glob('**/data.csv'):\n",
    "    result = pd.concat((pd.read_csv(csv),result),axis=0)\n"
   ]
  },
  {
   "cell_type": "code",
   "execution_count": null,
   "metadata": {},
   "outputs": [
    {
     "name": "stdout",
     "output_type": "stream",
     "text": [
      "总数据条数 (761421, 3)\n",
      "去重 (540230, 3)\n",
      "去空值 (539955, 3)\n"
     ]
    }
   ],
   "source": [
    "# orgin = pd.read_csv(\"/fastone/users/shiny2/jobs/datas/my_data.csv\", index_col=0)\n",
    "# result = pd.concat((result,orgin), axis=0) # 合并其他来源的数据\n",
    "print(\"总数据条数\",result.shape)\n",
    "result = result.drop_duplicates() # 去重\n",
    "print(\"去重\", result.shape)\n",
    "result = result.dropna(axis=0, how='any') # 删除有空值的行\n",
    "print(\"去空值\", result.shape)"
   ]
  },
  {
   "cell_type": "code",
   "execution_count": 5,
   "metadata": {},
   "outputs": [
    {
     "name": "stdout",
     "output_type": "stream",
     "text": [
      "测试集 (10000, 3)\n",
      "训练集 (509580, 3)\n"
     ]
    }
   ],
   "source": [
    "test = result.sample(n=10000, replace= False)\n",
    "train = result.drop(test.index).reset_index(drop=True)\n",
    "print(\"测试集\",test.shape)\n",
    "print(\"训练集\", train.shape)"
   ]
  },
  {
   "cell_type": "code",
   "execution_count": 7,
   "metadata": {},
   "outputs": [],
   "source": [
    "test.to_csv('test.csv', index=False)\n",
    "train.to_csv('train.csv', index=False)"
   ]
  },
  {
   "cell_type": "markdown",
   "metadata": {},
   "source": [
    "# 加载原版数据\n"
   ]
  },
  {
   "cell_type": "code",
   "execution_count": null,
   "metadata": {},
   "outputs": [],
   "source": [
    "import requests\n",
    "from bs4 import BeautifulSoup\n",
    "\n",
    "with open(\"wiki.html\") as f: #wiki界面分析\n",
    "    page = f.read()\n",
    "page = BeautifulSoup(page)"
   ]
  },
  {
   "cell_type": "code",
   "execution_count": 38,
   "metadata": {},
   "outputs": [
    {
     "data": {
      "application/vnd.jupyter.widget-view+json": {
       "model_id": "9c2c1652139844e699f626d1a42449f8",
       "version_major": 2,
       "version_minor": 0
      },
      "text/plain": [
       "  0%|          | 0/49 [00:00<?, ?it/s]"
      ]
     },
     "metadata": {},
     "output_type": "display_data"
    }
   ],
   "source": [
    "tables = page.find_all(\"table\", class_=\"data-table\")\n",
    "\n",
    "from tqdm.notebook import tqdm\n",
    "result = []\n",
    "for table in tqdm(tables):\n",
    "    table = table.find(\"tbody\")\n",
    "    for row in table.find_all(\"tr\"): # 遍历每一行\n",
    "        datas = row.find_all(\"td\")\n",
    "        if len(datas) == 3:\n",
    "            src = datas[1].text\n",
    "            target = datas[2].text\n",
    "            result.append({\n",
    "                \"key\": \"-\",\n",
    "                \"src\": src.strip(),\n",
    "                \"target\": target.strip()\n",
    "            })\n",
    "        elif len(datas) == 2:\n",
    "            src = datas[0].text\n",
    "            target = datas[1].text\n",
    "            result.append({\n",
    "                \"key\": \"-\",\n",
    "                \"src\": src.strip(),\n",
    "                \"target\": target.strip()\n",
    "            })\n"
   ]
  },
  {
   "cell_type": "code",
   "execution_count": 40,
   "metadata": {},
   "outputs": [
    {
     "data": {
      "application/vnd.jupyter.widget-view+json": {
       "model_id": "ceaaa8bae29f4879a0d2c16351a86d0f",
       "version_major": 2,
       "version_minor": 0
      },
      "text/plain": [
       "  0%|          | 0/5 [00:00<?, ?it/s]"
      ]
     },
     "metadata": {},
     "output_type": "display_data"
    }
   ],
   "source": [
    "tables = page.find_all(\"table\", class_=\"sortable\")\n",
    "\n",
    "from tqdm.notebook import tqdm\n",
    "for table in tqdm(tables):\n",
    "    table = table.find(\"tbody\")\n",
    "    for row in table.find_all(\"tr\"): # 遍历每一行\n",
    "        datas = row.find_all(\"td\")\n",
    "        if len(datas) < 2:\n",
    "            continue\n",
    "        src = datas[0].text\n",
    "        target = datas[1].text\n",
    "        result.append({\n",
    "            \"key\": \"-\",\n",
    "            \"src\": src.strip(),\n",
    "            \"target\": target.strip()\n",
    "        })"
   ]
  },
  {
   "cell_type": "code",
   "execution_count": null,
   "metadata": {},
   "outputs": [],
   "source": [
    "result = pd.DataFrame(result)\n",
    "train = pd.concat([result, pd.read_csv(\"train.csv\")], axis=0)\n",
    "train.to_csv(\"train.csv\")"
   ]
  },
  {
   "cell_type": "code",
   "execution_count": 5,
   "metadata": {},
   "outputs": [
    {
     "name": "stdout",
     "output_type": "stream",
     "text": [
      "(512046, 3)\n",
      "(10000, 3)\n"
     ]
    }
   ],
   "source": [
    "print(pd.read_csv(\"train.csv\").shape)\n",
    "print(pd.read_csv(\"test.csv\").shape)"
   ]
  }
 ],
 "metadata": {
  "kernelspec": {
   "display_name": "transformers",
   "language": "python",
   "name": "python3"
  },
  "language_info": {
   "codemirror_mode": {
    "name": "ipython",
    "version": 3
   },
   "file_extension": ".py",
   "mimetype": "text/x-python",
   "name": "python",
   "nbconvert_exporter": "python",
   "pygments_lexer": "ipython3",
   "version": "3.10.16"
  }
 },
 "nbformat": 4,
 "nbformat_minor": 2
}
